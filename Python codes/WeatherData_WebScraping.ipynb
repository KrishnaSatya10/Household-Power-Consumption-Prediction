{
 "cells": [
  {
   "cell_type": "code",
   "execution_count": null,
   "metadata": {},
   "outputs": [],
   "source": [
    "from selenium import webdriver\n",
    "from selenium.webdriver.common.by import By\n",
    "from time import sleep\n",
    "import csv\n"
   ]
  },
  {
   "cell_type": "code",
   "execution_count": null,
   "metadata": {},
   "outputs": [],
   "source": [
    "weather_data = [[\"Date\", \"Temperature\", \"Dew Point\", \"Humidity\", \"Wind Speed\", \"Pressure\", \"Precipitation\"]]\n",
    "\n",
    "driver = webdriver.Chrome(executable_path=r\"./chromedriver.exe\")\n",
    "\n",
    "# scrap data from December 2006 to November 2010\n",
    "for year in range(2006, 2011):\n",
    "    for month in range(1,13):\n",
    "        if year == 2006:\n",
    "            month = 12\n",
    "        driver.get(\"https://www.wunderground.com/history/monthly/fr/paray-vieille-poste/LFPO/date/\"+str(year)+\"-\"+str(month))\n",
    "\n",
    "        sleep(5)\n",
    "        \n",
    "        tables = driver.find_elements_by_css_selector(\"[aria-labelledby='Days data']\")\n",
    "        k = 0\n",
    "        tmp_data = []\n",
    "        \n",
    "        for table in tables:\n",
    "            rows = table.find_elements(By.TAG_NAME, \"tr\")\n",
    "            for i in range(1,len(rows)):\n",
    "                if k == 0:\n",
    "                    tmp_data.append([\"0\", \"0\", \"0\", \"0\", \"0\", \"0\", \"0\"])\n",
    "                cols = rows[i].find_elements(By.TAG_NAME, \"td\")\n",
    "                \n",
    "                # select middle column value i.e. Avg if there are more than one column in table like Min, Avg, Max\n",
    "                if len(cols) > 1:\n",
    "                    col = cols[1]\n",
    "                    tmp_data[i-1][k] = col.text\n",
    "                    \n",
    "                else:\n",
    "                    col = cols[0]\n",
    "                    \n",
    "                    # Time columns\n",
    "                    if k == 0:\n",
    "                        tmp_data[i-1][k] = str(month) + \"/\" + col.text + \"/\" + str(year) # mm/dd/yyyy  format\n",
    "                    else:\n",
    "                        tmp_data[i-1][k] = col.text\n",
    "            k += 1\n",
    "        \n",
    "        weather_data.extend(tmp_data)\n",
    "        \n",
    "        if year == 2006:\n",
    "            break\n",
    "        if year == 2010 and month == 11:\n",
    "            break\n",
    "\n",
    "file = open('./scraped.csv', 'w+', newline ='')\n",
    "  \n",
    "# writing the data into the file\n",
    "with file:    \n",
    "    write = csv.writer(file)\n",
    "    write.writerows(weather_data)"
   ]
  }
 ],
 "metadata": {
  "kernelspec": {
   "display_name": "Python 3",
   "language": "python",
   "name": "python3"
  },
  "language_info": {
   "codemirror_mode": {
    "name": "ipython",
    "version": 3
   },
   "file_extension": ".py",
   "mimetype": "text/x-python",
   "name": "python",
   "nbconvert_exporter": "python",
   "pygments_lexer": "ipython3",
   "version": "3.8.5"
  }
 },
 "nbformat": 4,
 "nbformat_minor": 4
}
